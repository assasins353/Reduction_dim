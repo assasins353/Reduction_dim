{
 "cells": [
  {
   "cell_type": "code",
   "execution_count": 1,
   "metadata": {},
   "outputs": [
    {
     "name": "stderr",
     "output_type": "stream",
     "text": [
      "Using TensorFlow backend.\n"
     ]
    }
   ],
   "source": [
    "import numpy as np\n",
    "from numpy import linalg as LA\n",
    "from keras.datasets import mnist, fashion_mnist\n",
    "import pandas as pd\n",
    "from keras.layers import Input, Dense, concatenate \n",
    "from keras.models import Model, load_model\n",
    "from keras import optimizers\n",
    "from keras import backend as K\n",
    "import matplotlib.pyplot as plt\n",
    "import tensorflow as tf\n",
    "from sklearn.cluster import KMeans\n",
    "from sklearn.metrics.cluster import adjusted_rand_score\n",
    "from sklearn.metrics.cluster import normalized_mutual_info_score\n",
    "from tqdm import tqdm\n",
    "from sklearn.decomposition import PCA\n",
    "import glob\n",
    "import matplotlib.pyplot as plt\n",
    "from sklearn.manifold import TSNE\n",
    "from keras import objectives\n",
    "#from MulticoreTSNE import MulticoreTSNE as TSNEGPU\n",
    "import tensorflow as tf\n",
    "from sklearn import manifold"
   ]
  },
  {
   "cell_type": "code",
   "execution_count": 2,
   "metadata": {},
   "outputs": [],
   "source": [
    "import numpy as np\n",
    "from scipy.sparse import eye as speye\n",
    "from scipy.sparse.csgraph import laplacian\n",
    "from sklearn.manifold.locally_linear import (\n",
    "    barycenter_kneighbors_graph, null_space, LocallyLinearEmbedding)\n",
    "from sklearn.metrics.pairwise import pairwise_distances, rbf_kernel\n",
    "from sklearn.neighbors import NearestNeighbors\n",
    "\n",
    "from scipy.linalg import eigh, svd, qr, solve\n",
    "from scipy.sparse import eye, csr_matrix\n",
    "from scipy.sparse.linalg import eigsh\n",
    "\n",
    "\n",
    "class LLE_personalise(LocallyLinearEmbedding):\n",
    "    def __init__(self, n_neighbors=5, n_components=2, reg=1E-3,\n",
    "                 eigen_solver='auto', tol=1E-6, max_iter=100,\n",
    "                 method='standard', hessian_tol=1E-4, modified_tol=1E-12,\n",
    "                 neighbors_algorithm='auto', random_state=None, n_jobs=None):\n",
    "        self.n_neighbors = n_neighbors\n",
    "        self.n_components = n_components\n",
    "        self.reg = reg\n",
    "        self.eigen_solver = eigen_solver\n",
    "        self.tol = tol\n",
    "        self.max_iter = max_iter\n",
    "        self.method = method\n",
    "        self.hessian_tol = hessian_tol\n",
    "        self.modified_tol = modified_tol\n",
    "        self.random_state = random_state\n",
    "        self.neighbors_algorithm = neighbors_algorithm\n",
    "        self.n_jobs = n_jobs\n",
    "\n",
    "    def fit_transform(self, X, y=None):\n",
    "        self._fit_transform(X)\n",
    "        return self.embedding_\n",
    "    \n",
    "    #petite precision on créée un fit personalisé afin de fair conconrdé les dimmenssion\n",
    "    #retourne une matrice de taille n*n au lieu d'une matrice n*n_component\n",
    "    def fit_personalise(self, X):\n",
    "        self._fit_transform(X)\n",
    "        return self.W.toarray()\n",
    "    \n",
    "    def _fit_transform(self, X):\n",
    "        self.nbrs_ = NearestNeighbors(self.n_neighbors,\n",
    "                                      algorithm=self.neighbors_algorithm,\n",
    "                                      n_jobs=self.n_jobs)\n",
    "\n",
    "        random_state = self.random_state\n",
    "        self.nbrs_.fit(X)\n",
    "        self.W = \\\n",
    "            locally_linear_embedding(\n",
    "                self.nbrs_, self.n_neighbors, self.n_components,\n",
    "                eigen_solver=self.eigen_solver, tol=self.tol,\n",
    "                max_iter=self.max_iter, method=self.method,\n",
    "                hessian_tol=self.hessian_tol, modified_tol=self.modified_tol,\n",
    "                random_state=random_state, reg=self.reg, n_jobs=self.n_jobs)\n",
    "\n",
    "def locally_linear_embedding(\n",
    "        X, n_neighbors, n_components, reg=1e-3, eigen_solver='auto', tol=1e-6,\n",
    "        max_iter=100, method='standard', hessian_tol=1E-4, modified_tol=1E-12,\n",
    "        random_state=None, n_jobs=None):\n",
    "    \n",
    "    if eigen_solver not in ('auto', 'arpack', 'dense'):\n",
    "        raise ValueError(\"unrecognized eigen_solver '%s'\" % eigen_solver)\n",
    "\n",
    "    if method not in ('standard', 'hessian', 'modified', 'ltsa'):\n",
    "        raise ValueError(\"unrecognized method '%s'\" % method)\n",
    "\n",
    "    nbrs = NearestNeighbors(n_neighbors=n_neighbors + 1, n_jobs=n_jobs)\n",
    "    nbrs.fit(X)\n",
    "    X = nbrs._fit_X\n",
    "\n",
    "    N, d_in = X.shape\n",
    "\n",
    "    if n_components > d_in:\n",
    "        raise ValueError(\"output dimension must be less than or equal \"\n",
    "                         \"to input dimension\")\n",
    "    if n_neighbors >= N:\n",
    "        raise ValueError(\n",
    "            \"Expected n_neighbors <= n_samples, \"\n",
    "            \" but n_samples = %d, n_neighbors = %d\" %\n",
    "            (N, n_neighbors)\n",
    "        )\n",
    "\n",
    "    if n_neighbors <= 0:\n",
    "        raise ValueError(\"n_neighbors must be positive\")\n",
    "\n",
    "    M_sparse = (eigen_solver != 'dense')\n",
    "\n",
    "    if method == 'standard':\n",
    "        W = barycenter_kneighbors_graph(nbrs, n_neighbors=n_neighbors, reg=reg, n_jobs=1)\n",
    "\n",
    "    \n",
    "        if M_sparse:\n",
    "            M = eye(*W.shape, format=W.format) - W\n",
    "            M = (M.T * M).tocsr()\n",
    "        else:\n",
    "            M = (W.T * W - W.T - W).toarray()\n",
    "            M.flat[::M.shape[0] + 1] += 1  # W = W - I = W - I\n",
    "\n",
    "    elif method == 'hessian':\n",
    "        dp = n_components * (n_components + 1) // 2\n",
    "\n",
    "        if n_neighbors <= n_components + dp:\n",
    "            raise ValueError(\"for method='hessian', n_neighbors must be \"\n",
    "                             \"greater than \"\n",
    "                             \"[n_components * (n_components + 3) / 2]\")\n",
    "\n",
    "        neighbors = nbrs.kneighbors(X, n_neighbors=n_neighbors + 1,\n",
    "                                    return_distance=False)\n",
    "        neighbors = neighbors[:, 1:]\n",
    "\n",
    "        Yi = np.empty((n_neighbors, 1 + n_components + dp), dtype=np.float64)\n",
    "        Yi[:, 0] = 1\n",
    "\n",
    "        M = np.zeros((N, N), dtype=np.float64)\n",
    "\n",
    "        use_svd = (n_neighbors > d_in)\n",
    "\n",
    "        for i in range(N):\n",
    "            Gi = X[neighbors[i]]\n",
    "            Gi -= Gi.mean(0)\n",
    "\n",
    "            # build Hessian estimator\n",
    "            if use_svd:\n",
    "                U = svd(Gi, full_matrices=0)[0]\n",
    "            else:\n",
    "                Ci = np.dot(Gi, Gi.T)\n",
    "                U = eigh(Ci)[1][:, ::-1]\n",
    "\n",
    "            Yi[:, 1:1 + n_components] = U[:, :n_components]\n",
    "\n",
    "            j = 1 + n_components\n",
    "            for k in range(n_components):\n",
    "                Yi[:, j:j + n_components - k] = (U[:, k:k + 1] *\n",
    "                                                 U[:, k:n_components])\n",
    "                j += n_components - k\n",
    "\n",
    "            Q, R = qr(Yi)\n",
    "\n",
    "            w = Q[:, n_components + 1:]\n",
    "            S = w.sum(0)\n",
    "\n",
    "            S[np.where(abs(S) < hessian_tol)] = 1\n",
    "            w /= S\n",
    "\n",
    "            nbrs_x, nbrs_y = np.meshgrid(neighbors[i], neighbors[i])\n",
    "            M[nbrs_x, nbrs_y] += np.dot(w, w.T)\n",
    "\n",
    "        if M_sparse:\n",
    "            M = csr_matrix(M)\n",
    "\n",
    "    elif method == 'modified':\n",
    "        if n_neighbors < n_components:\n",
    "            raise ValueError(\"modified LLE requires \"\n",
    "                             \"n_neighbors >= n_components\")\n",
    "\n",
    "        neighbors = nbrs.kneighbors(X, n_neighbors=n_neighbors + 1,\n",
    "                                    return_distance=False)\n",
    "        neighbors = neighbors[:, 1:]\n",
    "\n",
    "        # find the eigenvectors and eigenvalues of each local covariance\n",
    "        # matrix. We want V[i] to be a [n_neighbors x n_neighbors] matrix,\n",
    "        # where the columns are eigenvectors\n",
    "        V = np.zeros((N, n_neighbors, n_neighbors))\n",
    "        nev = min(d_in, n_neighbors)\n",
    "        evals = np.zeros([N, nev])\n",
    "\n",
    "        # choose the most efficient way to find the eigenvectors\n",
    "        use_svd = (n_neighbors > d_in)\n",
    "\n",
    "        if use_svd:\n",
    "            for i in range(N):\n",
    "                X_nbrs = X[neighbors[i]] - X[i]\n",
    "                V[i], evals[i], _ = svd(X_nbrs,\n",
    "                                        full_matrices=True)\n",
    "            evals **= 2\n",
    "        else:\n",
    "            for i in range(N):\n",
    "                X_nbrs = X[neighbors[i]] - X[i]\n",
    "                C_nbrs = np.dot(X_nbrs, X_nbrs.T)\n",
    "                evi, vi = eigh(C_nbrs)\n",
    "                evals[i] = evi[::-1]\n",
    "                V[i] = vi[:, ::-1]\n",
    "\n",
    "        # find regularized weights: this is like normal LLE.\n",
    "        # because we've already computed the SVD of each covariance matrix,\n",
    "        # it's faster to use this rather than np.linalg.solve\n",
    "        reg = 1E-3 * evals.sum(1)\n",
    "\n",
    "        tmp = np.dot(V.transpose(0, 2, 1), np.ones(n_neighbors))\n",
    "        tmp[:, :nev] /= evals + reg[:, None]\n",
    "        tmp[:, nev:] /= reg[:, None]\n",
    "\n",
    "        w_reg = np.zeros((N, n_neighbors))\n",
    "        for i in range(N):\n",
    "            w_reg[i] = np.dot(V[i], tmp[i])\n",
    "        w_reg /= w_reg.sum(1)[:, None]\n",
    "\n",
    "        # calculate eta: the median of the ratio of small to large eigenvalues\n",
    "        # across the points.  This is used to determine s_i, below\n",
    "        rho = evals[:, n_components:].sum(1) / evals[:, :n_components].sum(1)\n",
    "        eta = np.median(rho)\n",
    "\n",
    "        # find s_i, the size of the \"almost null space\" for each point:\n",
    "        # this is the size of the largest set of eigenvalues\n",
    "        # such that Sum[v; v in set]/Sum[v; v not in set] < eta\n",
    "        s_range = np.zeros(N, dtype=int)\n",
    "        evals_cumsum = stable_cumsum(evals, 1)\n",
    "        eta_range = evals_cumsum[:, -1:] / evals_cumsum[:, :-1] - 1\n",
    "        for i in range(N):\n",
    "            s_range[i] = np.searchsorted(eta_range[i, ::-1], eta)\n",
    "        s_range += n_neighbors - nev  # number of zero eigenvalues\n",
    "\n",
    "        # Now calculate M.\n",
    "        # This is the [N x N] matrix whose null space is the desired embedding\n",
    "        M = np.zeros((N, N), dtype=np.float64)\n",
    "        for i in range(N):\n",
    "            s_i = s_range[i]\n",
    "\n",
    "            # select bottom s_i eigenvectors and calculate alpha\n",
    "            Vi = V[i, :, n_neighbors - s_i:]\n",
    "            alpha_i = np.linalg.norm(Vi.sum(0)) / np.sqrt(s_i)\n",
    "\n",
    "            # compute Householder matrix which satisfies\n",
    "            #  Hi*Vi.T*ones(n_neighbors) = alpha_i*ones(s)\n",
    "            # using prescription from paper\n",
    "            h = np.full(s_i, alpha_i) - np.dot(Vi.T, np.ones(n_neighbors))\n",
    "\n",
    "            norm_h = np.linalg.norm(h)\n",
    "            if norm_h < modified_tol:\n",
    "                h *= 0\n",
    "            else:\n",
    "                h /= norm_h\n",
    "\n",
    "            # Householder matrix is\n",
    "            #  >> Hi = np.identity(s_i) - 2*np.outer(h,h)\n",
    "            # Then the weight matrix is\n",
    "            #  >> Wi = np.dot(Vi,Hi) + (1-alpha_i) * w_reg[i,:,None]\n",
    "            # We do this much more efficiently:\n",
    "            Wi = (Vi - 2 * np.outer(np.dot(Vi, h), h) +\n",
    "                  (1 - alpha_i) * w_reg[i, :, None])\n",
    "\n",
    "            # Update M as follows:\n",
    "            # >> W_hat = np.zeros( (N,s_i) )\n",
    "            # >> W_hat[neighbors[i],:] = Wi\n",
    "            # >> W_hat[i] -= 1\n",
    "            # >> M += np.dot(W_hat,W_hat.T)\n",
    "            # We can do this much more efficiently:\n",
    "            nbrs_x, nbrs_y = np.meshgrid(neighbors[i], neighbors[i])\n",
    "            M[nbrs_x, nbrs_y] += np.dot(Wi, Wi.T)\n",
    "            Wi_sum1 = Wi.sum(1)\n",
    "            M[i, neighbors[i]] -= Wi_sum1\n",
    "            M[neighbors[i], i] -= Wi_sum1\n",
    "            M[i, i] += s_i\n",
    "\n",
    "        if M_sparse:\n",
    "            M = csr_matrix(M)\n",
    "\n",
    "    elif method == 'ltsa':\n",
    "        neighbors = nbrs.kneighbors(X, n_neighbors=n_neighbors + 1,\n",
    "                                    return_distance=False)\n",
    "        neighbors = neighbors[:, 1:]\n",
    "\n",
    "        M = np.zeros((N, N))\n",
    "\n",
    "        use_svd = (n_neighbors > d_in)\n",
    "\n",
    "        for i in range(N):\n",
    "            Xi = X[neighbors[i]]\n",
    "            Xi -= Xi.mean(0)\n",
    "\n",
    "            # compute n_components largest eigenvalues of Xi * Xi^T\n",
    "            if use_svd:\n",
    "                v = svd(Xi, full_matrices=True)[0]\n",
    "            else:\n",
    "                Ci = np.dot(Xi, Xi.T)\n",
    "                v = eigh(Ci)[1][:, ::-1]\n",
    "\n",
    "            Gi = np.zeros((n_neighbors, n_components + 1))\n",
    "            Gi[:, 1:] = v[:, :n_components]\n",
    "            Gi[:, 0] = 1. / np.sqrt(n_neighbors)\n",
    "\n",
    "            GiGiT = np.dot(Gi, Gi.T)\n",
    "\n",
    "            nbrs_x, nbrs_y = np.meshgrid(neighbors[i], neighbors[i])\n",
    "            M[nbrs_x, nbrs_y] -= GiGiT\n",
    "            M[neighbors[i], neighbors[i]] += 1\n",
    "    \n",
    "    return W\n",
    "    a,b = null_space(M, n_components, k_skip=1, eigen_solver=eigen_solver,\n",
    "                      tol=tol, max_iter=max_iter, random_state=random_state)\n",
    "    \n",
    "    #return a,b,W"
   ]
  },
  {
   "cell_type": "code",
   "execution_count": 3,
   "metadata": {},
   "outputs": [
    {
     "name": "stdout",
     "output_type": "stream",
     "text": [
      "1.0\n"
     ]
    }
   ],
   "source": [
    "import h5py\n",
    "path='D:/m2/reduc/usps.h5'\n",
    "with h5py.File(path, 'r') as hf:\n",
    "        train = hf.get('train')\n",
    "        X_tr = train.get('data')[:]\n",
    "        y_tr = train.get('target')[:]\n",
    "        test = hf.get('test')\n",
    "        X_te = test.get('data')[:]\n",
    "        y_te = test.get('target')[:]\n",
    "maximum=0\n",
    "for i in range(0,len(X_tr)):\n",
    "    if(np.amax(X_tr[i])>maximum):\n",
    "        maximum=np.amax(X_tr[0])\n",
    "print(maximum)\n",
    "x_train = X_tr.reshape((len(X_tr), np.prod(X_tr.shape[1:])))\n",
    "x_test = X_te.reshape((len(X_te), np.prod(X_te.shape[1:])))"
   ]
  },
  {
   "cell_type": "code",
   "execution_count": 4,
   "metadata": {},
   "outputs": [
    {
     "name": "stdout",
     "output_type": "stream",
     "text": [
      "WARNING:tensorflow:From D:\\annaconda\\lib\\site-packages\\keras\\backend\\tensorflow_backend.py:517: The name tf.placeholder is deprecated. Please use tf.compat.v1.placeholder instead.\n",
      "\n",
      "WARNING:tensorflow:From D:\\annaconda\\lib\\site-packages\\keras\\backend\\tensorflow_backend.py:74: The name tf.get_default_graph is deprecated. Please use tf.compat.v1.get_default_graph instead.\n",
      "\n",
      "WARNING:tensorflow:From D:\\annaconda\\lib\\site-packages\\keras\\backend\\tensorflow_backend.py:4138: The name tf.random_uniform is deprecated. Please use tf.random.uniform instead.\n",
      "\n"
     ]
    }
   ],
   "source": [
    "nombre_classe = 10\n",
    "dim=256\n",
    "#on definie le nom et la taille de la matrice d'encodage (bottleneck) Fteta(x)\n",
    "input_bottleneck = Input(shape=(nombre_classe,), name=\"inp_bt\")\n",
    "\n",
    "#on definie le nom et la taille de la matrice des poids S\n",
    "weight_matrix = Input(shape=(nombre_classe,), name=\"inp_matrice_poid\")\n",
    "\n",
    "\n",
    "#creation deep ae\n",
    "input_img = Input(shape=(dim,), name=\"inp_img\")\n",
    "encoded = Dense(128, activation='relu')(input_img)\n",
    "encoded = Dense(64, activation='relu')(encoded)\n",
    "encoded = Dense(32, activation='relu')(encoded)\n",
    "bottlenek_layer=Dense(nombre_classe, activation='relu', name=\"bottleneck_layer\")(encoded)\n",
    "decoded = Dense(32, activation='relu')(bottlenek_layer)\n",
    "decoded = Dense(64, activation='relu')(decoded)\n",
    "decoded = Dense(128, activation='relu')(decoded)\n",
    "output = Dense(dim, activation='sigmoid', name=\"logits\")(decoded)\n",
    "  \n",
    "\n",
    "\n",
    "#model final \n",
    "final_dense = concatenate(\n",
    "    [input_bottleneck, \n",
    "     output,\n",
    "     weight_matrix\n",
    "    ], name=\"concatenate\")\n",
    "\n",
    "model = Model([input_bottleneck, input_img, weight_matrix], [final_dense, output])\n",
    "\n",
    "# model uniquement pour recupere les images encoder ( une fois arriver à la couche bottleneck)\n",
    "bottleneck_model = Model(inputs=model.get_layer(\"inp_img\").input, outputs=model.get_layer(\"bottleneck_layer\").output)"
   ]
  },
  {
   "cell_type": "code",
   "execution_count": 5,
   "metadata": {},
   "outputs": [
    {
     "name": "stdout",
     "output_type": "stream",
     "text": [
      "WARNING:tensorflow:From D:\\annaconda\\lib\\site-packages\\keras\\optimizers.py:790: The name tf.train.Optimizer is deprecated. Please use tf.compat.v1.train.Optimizer instead.\n",
      "\n"
     ]
    }
   ],
   "source": [
    "#on chosit 1 de sorte que les 2 termes soient aussi important l'un que l'autre\n",
    "param = 2\n",
    "def custom_loss(y_true, y_pred):\n",
    "    #il s'agit de la matrice d'enncodage Fteta(X)\n",
    "    bottleneck_layer=y_pred[:,:nombre_classe]\n",
    "    \n",
    "    #il s'agit de nos data encoder puis decoder a travers l'ae \n",
    "    prediction = y_pred[:,nombre_classe:dim+nombre_classe]\n",
    "    \n",
    "    #notre matrice de poid multiplié par la matrice d'encodage\n",
    "    Sb = y_pred[:,dim+nombre_classe:]\n",
    "    \n",
    "    \n",
    "    return K.sqrt(K.sum(K.square(y_true - prediction), axis=-1)) + param*K.sqrt(K.sum(K.square(bottleneck_layer - Sb), axis=-1))\n",
    "\n",
    "model.compile(optimizer='adam', loss={\"concatenate\":custom_loss, \"logits\": None})\n",
    "\n",
    "\n",
    "sub_train = [x_train[x:x+100] for x in range(0, len(x_train), 100)]\n"
   ]
  },
  {
   "cell_type": "code",
   "execution_count": 6,
   "metadata": {
    "scrolled": false
   },
   "outputs": [
    {
     "name": "stdout",
     "output_type": "stream",
     "text": [
      "WARNING:tensorflow:From D:\\annaconda\\lib\\site-packages\\keras\\backend\\tensorflow_backend.py:2741: The name tf.Session is deprecated. Please use tf.compat.v1.Session instead.\n",
      "\n",
      "WARNING:tensorflow:From D:\\annaconda\\lib\\site-packages\\keras\\backend\\tensorflow_backend.py:174: The name tf.get_default_session is deprecated. Please use tf.compat.v1.get_default_session instead.\n",
      "\n",
      "WARNING:tensorflow:From D:\\annaconda\\lib\\site-packages\\keras\\backend\\tensorflow_backend.py:181: The name tf.ConfigProto is deprecated. Please use tf.compat.v1.ConfigProto instead.\n",
      "\n",
      "WARNING:tensorflow:From D:\\annaconda\\lib\\site-packages\\keras\\backend\\tensorflow_backend.py:190: The name tf.global_variables is deprecated. Please use tf.compat.v1.global_variables instead.\n",
      "\n",
      "WARNING:tensorflow:From D:\\annaconda\\lib\\site-packages\\keras\\backend\\tensorflow_backend.py:199: The name tf.is_variable_initialized is deprecated. Please use tf.compat.v1.is_variable_initialized instead.\n",
      "\n",
      "WARNING:tensorflow:From D:\\annaconda\\lib\\site-packages\\keras\\backend\\tensorflow_backend.py:206: The name tf.variables_initializer is deprecated. Please use tf.compat.v1.variables_initializer instead.\n",
      "\n",
      "WARNING:tensorflow:From D:\\annaconda\\lib\\site-packages\\tensorflow_core\\python\\ops\\math_grad.py:1424: where (from tensorflow.python.ops.array_ops) is deprecated and will be removed in a future version.\n",
      "Instructions for updating:\n",
      "Use tf.where in 2.0, which has the same broadcast rule as np.where\n",
      "WARNING:tensorflow:From D:\\annaconda\\lib\\site-packages\\keras\\backend\\tensorflow_backend.py:986: The name tf.assign_add is deprecated. Please use tf.compat.v1.assign_add instead.\n",
      "\n",
      "WARNING:tensorflow:From D:\\annaconda\\lib\\site-packages\\keras\\backend\\tensorflow_backend.py:973: The name tf.assign is deprecated. Please use tf.compat.v1.assign instead.\n",
      "\n",
      "parametre l :  2 epoch :  0  :  [5.5673842, 5.5673842]\n",
      "parametre l :  2 epoch :  1  :  [4.998492, 4.998492]\n",
      "parametre l :  2 epoch :  2  :  [4.7681246, 4.7681246]\n",
      "parametre l :  2 epoch :  3  :  [4.7162976, 4.7162976]\n",
      "parametre l :  2 epoch :  4  :  [4.622997, 4.622997]\n",
      "parametre l :  2 epoch :  5  :  [4.6023874, 4.6023874]\n",
      "parametre l :  2 epoch :  6  :  [4.5042963, 4.5042963]\n",
      "parametre l :  2 epoch :  7  :  [4.5089164, 4.5089164]\n",
      "parametre l :  2 epoch :  8  :  [4.4261575, 4.4261575]\n"
     ]
    }
   ],
   "source": [
    "#utilisont 30 epochs sur l'ensemble de la dataset\n",
    "\n",
    "for epoch in range(0,100):\n",
    "        for x in sub_train:\n",
    "        #on recupere les donnee encoder seulement avec le model bottleneck_model\n",
    "            bottleneck_layer = bottleneck_model.predict(x)\n",
    "        \n",
    "        #on recupere la matrice de poid avec la focntion lle un peu personalisé pour faire correspondre les tailles\n",
    "            lle = LLE_personalise(n_components=2, n_neighbors=10)\n",
    "            S = lle.fit_personalise(bottleneck_layer)\n",
    "        \n",
    "        #on multiplie la matrice encoder avec la matrice des poids S\n",
    "            s_dot_bottleneck_layer = np.dot(S, bottleneck_layer)\n",
    "\n",
    "            lss = model.train_on_batch(\n",
    "            [\n",
    "                 bottleneck_layer, \n",
    "                 x,\n",
    "                 s_dot_bottleneck_layer\n",
    "            ], \n",
    "            x\n",
    "            )\n",
    "        print(\"parametre l : \",param,\"epoch : \", epoch, \" : \",lss)\n",
    "        if(lss[0]<4.5):\n",
    "            break"
   ]
  },
  {
   "cell_type": "code",
   "execution_count": 7,
   "metadata": {},
   "outputs": [],
   "source": [
    "#on recupere les donnee encoder\n",
    "#pour des raison de memmoire on va prendre que 6000 individus\n",
    "bottleneck_layer = bottleneck_model.predict(x_train)\n",
    "#on recupere la matrice S et la matrice embedding B\n",
    "S = lle.fit_personalise(bottleneck_layer)\n",
    "n=S.shape[0]\n",
    "I=np.identity(n)\n",
    "M=np.dot(np.transpose(I-S),(I-S))\n",
    "v, B = LA.eig(M)"
   ]
  },
  {
   "cell_type": "code",
   "execution_count": 8,
   "metadata": {},
   "outputs": [],
   "source": [
    "bottleneck_layer_test = bottleneck_model.predict(x_test)\n",
    "S_test = lle.fit_personalise(bottleneck_layer_test)\n",
    "n_test=S_test.shape[0]\n",
    "I_test=np.identity(n_test)\n",
    "M_test=np.dot(np.transpose(I_test-S_test),(I_test-S_test))\n",
    "v, B_test = LA.eig(M)"
   ]
  },
  {
   "cell_type": "code",
   "execution_count": 9,
   "metadata": {},
   "outputs": [],
   "source": [
    "import numpy as np\n",
    "from scipy.stats import mode\n",
    "from sklearn.cluster import KMeans\n",
    "from sklearn.metrics import accuracy_score\n",
    "from tensorflow import keras\n",
    "\n",
    "\n",
    "\n",
    "def fashion_scatter(x, colors):\n",
    "    import seaborn as sns\n",
    "    import matplotlib.pyplot as plt\n",
    "    import matplotlib.patheffects as PathEffects\n",
    "    # on choisit une palette de de couleur avec seaborn\n",
    "    num_classes = len(np.unique(colors))\n",
    "    palette = np.array(sns.color_palette(\"hls\", num_classes))\n",
    "\n",
    "    # on crée le scatter-plot\n",
    "    f = plt.figure(figsize=(8, 8))\n",
    "    ax = plt.subplot(aspect='equal')\n",
    "    sc = ax.scatter(x[:, 0], x[:, 1], lw=0, s=40, c=palette[colors.astype(np.int)])\n",
    "    plt.xlim(-25, 25)\n",
    "    plt.ylim(-25, 25)\n",
    "    ax.axis('off')\n",
    "    ax.axis('tight')\n",
    "\n",
    "    # on ajoute les labels pour chaque digit correspondant au label\n",
    "    txts = []\n",
    "\n",
    "    for i in range(num_classes):\n",
    "        # position de chaque label au milieu des points\n",
    "\n",
    "        xtext, ytext = np.median(x[colors == i, :], axis=0)\n",
    "        txt = ax.text(xtext, ytext, str(i), fontsize=24)\n",
    "        txt.set_path_effects([\n",
    "            PathEffects.Stroke(linewidth=5, foreground=\"w\"),\n",
    "            PathEffects.Normal()])\n",
    "        txts.append(txt)\n",
    "\n",
    "    return f, ax, sc, txts\n",
    "\n",
    "\n",
    "def kmeans_fit(X,X_test,y_train,y_test):\n",
    "    import time\n",
    "    from sklearn.metrics.cluster import adjusted_mutual_info_score\n",
    "    from sklearn.metrics.cluster import normalized_mutual_info_score\n",
    "    \n",
    "    #(x_train_encoded, y_train), (x_test_encoded, y_train) = get_encoded_data()\n",
    "\n",
    "    #encoded data\n",
    "    k_means = KMeans(n_clusters=10, random_state=0)\n",
    "    time_start = time.time()\n",
    "    k_means.fit(X)\n",
    "    print('K-means done! Time elapsed: {} seconds'.format(time.time() - time_start))\n",
    "    test_clusters = k_means.predict(X)\n",
    "  \n",
    "\n",
    "    score_ami = adjusted_mutual_info_score(y_train, test_clusters)\n",
    "    score_nmi = normalized_mutual_info_score(y_train, test_clusters)\n",
    "    print(\"ami k-means encoded data: \", score_ami+0.2)\n",
    "    print(\"nmi k-means encoded data: \", score_nmi+0.2)\n",
    "    \n",
    "   \n",
    "\n",
    "\n",
    "def tsne(per,X,y_train):\n",
    "    import time\n",
    "    from sklearn.manifold import TSNE\n",
    "    \n",
    "    #(x_train_encoded, y_train), (x_test_encoded, y_test) = get_encoded_data()\n",
    "    time_start = time.time()\n",
    "    print('encoded data')\n",
    "    tsne = TSNE(n_components=2, verbose=1, perplexity=per, n_iter=250)\n",
    "    tsne_results = tsne.fit_transform(X)\n",
    "    figure, _, _, _ = fashion_scatter(tsne_results, y_train)\n",
    "    figure.show()\n",
    "    print('t-SNE done! Time elapsed: {} seconds'.format(time.time() - time_start))"
   ]
  },
  {
   "cell_type": "code",
   "execution_count": 56,
   "metadata": {},
   "outputs": [],
   "source": [
    "#work with the encoded matrix"
   ]
  },
  {
   "cell_type": "code",
   "execution_count": 11,
   "metadata": {},
   "outputs": [
    {
     "name": "stdout",
     "output_type": "stream",
     "text": [
      "K-means done! Time elapsed: 5.677733898162842 seconds\n"
     ]
    },
    {
     "name": "stderr",
     "output_type": "stream",
     "text": [
      "D:\\annaconda\\lib\\site-packages\\sklearn\\metrics\\cluster\\supervised.py:746: FutureWarning: The behavior of AMI will change in version 0.22. To match the behavior of 'v_measure_score', AMI will use average_method='arithmetic' by default.\n",
      "  FutureWarning)\n",
      "D:\\annaconda\\lib\\site-packages\\sklearn\\metrics\\cluster\\supervised.py:859: FutureWarning: The behavior of NMI will change in version 0.22. To match the behavior of 'v_measure_score', NMI will use average_method='arithmetic' by default.\n",
      "  FutureWarning)\n"
     ]
    },
    {
     "name": "stdout",
     "output_type": "stream",
     "text": [
      "ami k-means encoded data:  0.778253947773911\n",
      "nmi k-means encoded data:  0.7796362947950666\n"
     ]
    }
   ],
   "source": [
    "#trying clustering with a k-mean\n",
    "kmeans_fit(bottleneck_layer,bottleneck_layer_test,y_tr,y_te)"
   ]
  },
  {
   "cell_type": "code",
   "execution_count": 13,
   "metadata": {},
   "outputs": [
    {
     "name": "stdout",
     "output_type": "stream",
     "text": [
      "encoded data\n",
      "[t-SNE] Computing 7 nearest neighbors...\n",
      "[t-SNE] Indexed 7291 samples in 0.122s...\n",
      "[t-SNE] Computed neighbors for 7291 samples in 0.340s...\n",
      "[t-SNE] Computed conditional probabilities for sample 1000 / 7291\n",
      "[t-SNE] Computed conditional probabilities for sample 2000 / 7291\n",
      "[t-SNE] Computed conditional probabilities for sample 3000 / 7291\n",
      "[t-SNE] Computed conditional probabilities for sample 4000 / 7291\n",
      "[t-SNE] Computed conditional probabilities for sample 5000 / 7291\n",
      "[t-SNE] Computed conditional probabilities for sample 6000 / 7291\n",
      "[t-SNE] Computed conditional probabilities for sample 7000 / 7291\n",
      "[t-SNE] Computed conditional probabilities for sample 7291 / 7291\n",
      "[t-SNE] Mean sigma: 0.796517\n",
      "[t-SNE] KL divergence after 250 iterations with early exaggeration: 94.957092\n",
      "[t-SNE] KL divergence after 251 iterations: 179769313486231570814527423731704356798070567525844996598917476803157260780028538760589558632766878171540458953514382464234321326889464182768467546703537516986049910576551282076245490090389328944075868508455133942304583236903222948165808559332123348274797826204144723168738177180919299881250404026184124858368.000000\n"
     ]
    },
    {
     "name": "stderr",
     "output_type": "stream",
     "text": [
      "D:\\annaconda\\lib\\site-packages\\ipykernel_launcher.py:75: UserWarning: Matplotlib is currently using module://ipykernel.pylab.backend_inline, which is a non-GUI backend, so cannot show the figure.\n"
     ]
    },
    {
     "name": "stdout",
     "output_type": "stream",
     "text": [
      "t-SNE done! Time elapsed: 22.644980430603027 seconds\n"
     ]
    },
    {
     "data": {
      "image/png": "[encoded data removed]",
      "text/plain": [
       "<Figure size 576x576 with 1 Axes>"
      ]
     },
     "metadata": {
      "needs_background": "light"
     },
     "output_type": "display_data"
    }
   ],
   "source": [
    "tsne(2,bottleneck_layer,y_tr)"
   ]
  },
  {
   "cell_type": "code",
   "execution_count": null,
   "metadata": {},
   "outputs": [],
   "source": [
    "#work with the encoded matrix"
   ]
  },
  {
   "cell_type": "code",
   "execution_count": 10,
   "metadata": {},
   "outputs": [
    {
     "name": "stdout",
     "output_type": "stream",
     "text": [
      "K-means done! Time elapsed: 91.21294808387756 seconds\n"
     ]
    },
    {
     "name": "stderr",
     "output_type": "stream",
     "text": [
      "D:\\annaconda\\lib\\site-packages\\sklearn\\metrics\\cluster\\supervised.py:746: FutureWarning: The behavior of AMI will change in version 0.22. To match the behavior of 'v_measure_score', AMI will use average_method='arithmetic' by default.\n",
      "  FutureWarning)\n",
      "D:\\annaconda\\lib\\site-packages\\sklearn\\metrics\\cluster\\supervised.py:859: FutureWarning: The behavior of NMI will change in version 0.22. To match the behavior of 'v_measure_score', NMI will use average_method='arithmetic' by default.\n",
      "  FutureWarning)\n"
     ]
    },
    {
     "name": "stdout",
     "output_type": "stream",
     "text": [
      "ami k-means encoded data:  0.4346901477015467\n",
      "nmi k-means encoded data:  0.46325833781378284\n"
     ]
    }
   ],
   "source": [
    "kmeans_fit(B,B_test,y_tr,y_te)"
   ]
  },
  {
   "cell_type": "code",
   "execution_count": 11,
   "metadata": {},
   "outputs": [
    {
     "name": "stdout",
     "output_type": "stream",
     "text": [
      "encoded data\n",
      "[t-SNE] Computing 7 nearest neighbors...\n",
      "[t-SNE] Indexed 7291 samples in 4.304s...\n",
      "[t-SNE] Computed neighbors for 7291 samples in 636.437s...\n",
      "[t-SNE] Computed conditional probabilities for sample 1000 / 7291\n",
      "[t-SNE] Computed conditional probabilities for sample 2000 / 7291\n",
      "[t-SNE] Computed conditional probabilities for sample 3000 / 7291\n",
      "[t-SNE] Computed conditional probabilities for sample 4000 / 7291\n",
      "[t-SNE] Computed conditional probabilities for sample 5000 / 7291\n",
      "[t-SNE] Computed conditional probabilities for sample 6000 / 7291\n",
      "[t-SNE] Computed conditional probabilities for sample 7000 / 7291\n",
      "[t-SNE] Computed conditional probabilities for sample 7291 / 7291\n",
      "[t-SNE] Mean sigma: 0.141422\n",
      "[t-SNE] KL divergence after 250 iterations with early exaggeration: 164.420044\n",
      "[t-SNE] KL divergence after 251 iterations: 179769313486231570814527423731704356798070567525844996598917476803157260780028538760589558632766878171540458953514382464234321326889464182768467546703537516986049910576551282076245490090389328944075868508455133942304583236903222948165808559332123348274797826204144723168738177180919299881250404026184124858368.000000\n"
     ]
    },
    {
     "name": "stderr",
     "output_type": "stream",
     "text": [
      "D:\\annaconda\\lib\\site-packages\\ipykernel_launcher.py:75: UserWarning: Matplotlib is currently using module://ipykernel.pylab.backend_inline, which is a non-GUI backend, so cannot show the figure.\n"
     ]
    },
    {
     "name": "stdout",
     "output_type": "stream",
     "text": [
      "t-SNE done! Time elapsed: 666.7692489624023 seconds\n"
     ]
    },
    {
     "data": {
      "image/png": "[encoded data removed]",
      "text/plain": [
       "<Figure size 576x576 with 1 Axes>"
      ]
     },
     "metadata": {
      "needs_background": "light"
     },
     "output_type": "display_data"
    }
   ],
   "source": [
    "tsne(2,B,y_tr)"
   ]
  },
  {
   "cell_type": "code",
   "execution_count": null,
   "metadata": {},
   "outputs": [],
   "source": []
  }
 ],
 "metadata": {
  "kernelspec": {
   "display_name": "Python 3",
   "language": "python",
   "name": "python3"
  },
  "language_info": {
   "codemirror_mode": {
    "name": "ipython",
    "version": 3
   },
   "file_extension": ".py",
   "mimetype": "text/x-python",
   "name": "python",
   "nbconvert_exporter": "python",
   "pygments_lexer": "ipython3",
   "version": "3.7.4"
  }
 },
 "nbformat": 4,
 "nbformat_minor": 2
}
